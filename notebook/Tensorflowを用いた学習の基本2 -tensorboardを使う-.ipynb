{
 "cells": [
  {
   "cell_type": "markdown",
   "id": "e7acb1f8",
   "metadata": {},
   "source": [
    "# TFがGPUを認識しているか確認"
   ]
  },
  {
   "cell_type": "code",
   "execution_count": 1,
   "id": "c042071c",
   "metadata": {},
   "outputs": [],
   "source": [
    "import os\n",
    "os.environ['TF_CPP_MIN_LOG_LEVEL']='2'\n",
    "import tensorflow as tf"
   ]
  },
  {
   "cell_type": "code",
   "execution_count": 2,
   "id": "8cacd1f9",
   "metadata": {},
   "outputs": [
    {
     "data": {
      "text/plain": [
       "[name: \"/device:CPU:0\"\n",
       " device_type: \"CPU\"\n",
       " memory_limit: 268435456\n",
       " locality {\n",
       " }\n",
       " incarnation: 8325757563734684059\n",
       " xla_global_id: -1,\n",
       " name: \"/device:GPU:0\"\n",
       " device_type: \"GPU\"\n",
       " memory_limit: 4146659328\n",
       " locality {\n",
       "   bus_id: 1\n",
       "   links {\n",
       "   }\n",
       " }\n",
       " incarnation: 18265967020339238172\n",
       " physical_device_desc: \"device: 0, name: NVIDIA GeForce GTX 1660 SUPER, pci bus id: 0000:09:00.0, compute capability: 7.5\"\n",
       " xla_global_id: 416903419]"
      ]
     },
     "execution_count": 2,
     "metadata": {},
     "output_type": "execute_result"
    }
   ],
   "source": [
    "from tensorflow.python.client import device_lib\n",
    "device_lib.list_local_devices()"
   ]
  },
  {
   "cell_type": "markdown",
   "id": "60a3ad60",
   "metadata": {},
   "source": [
    "# Datasetの確認"
   ]
  },
  {
   "cell_type": "code",
   "execution_count": 3,
   "id": "7117bda1",
   "metadata": {},
   "outputs": [],
   "source": [
    "import matplotlib.pyplot as plt\n",
    "import numpy as np\n",
    "import tensorflow_datasets as tfds"
   ]
  },
  {
   "cell_type": "code",
   "execution_count": 4,
   "id": "4ef4c86a",
   "metadata": {},
   "outputs": [],
   "source": [
    "ds,info = tfds.load('cifar10', \n",
    "                    split=['train','test'], \n",
    "                    shuffle_files=True,\n",
    "                    as_supervised=True,\n",
    "                    with_info=True)"
   ]
  },
  {
   "cell_type": "code",
   "execution_count": 5,
   "id": "c90666f0",
   "metadata": {},
   "outputs": [
    {
     "name": "stdout",
     "output_type": "stream",
     "text": [
      "ds = [<PrefetchDataset element_spec=(TensorSpec(shape=(32, 32, 3), dtype=tf.uint8, name=None), TensorSpec(shape=(), dtype=tf.int64, name=None))>, <PrefetchDataset element_spec=(TensorSpec(shape=(32, 32, 3), dtype=tf.uint8, name=None), TensorSpec(shape=(), dtype=tf.int64, name=None))>]\n",
      "info = tfds.core.DatasetInfo(\n",
      "    name='cifar10',\n",
      "    full_name='cifar10/3.0.2',\n",
      "    description=\"\"\"\n",
      "    The CIFAR-10 dataset consists of 60000 32x32 colour images in 10 classes, with 6000 images per class. There are 50000 training images and 10000 test images.\n",
      "    \"\"\",\n",
      "    homepage='https://www.cs.toronto.edu/~kriz/cifar.html',\n",
      "    data_path='~/tensorflow_datasets/cifar10/3.0.2',\n",
      "    file_format=tfrecord,\n",
      "    download_size=162.17 MiB,\n",
      "    dataset_size=132.40 MiB,\n",
      "    features=FeaturesDict({\n",
      "        'id': Text(shape=(), dtype=tf.string),\n",
      "        'image': Image(shape=(32, 32, 3), dtype=tf.uint8),\n",
      "        'label': ClassLabel(shape=(), dtype=tf.int64, num_classes=10),\n",
      "    }),\n",
      "    supervised_keys=('image', 'label'),\n",
      "    disable_shuffling=False,\n",
      "    splits={\n",
      "        'test': <SplitInfo num_examples=10000, num_shards=1>,\n",
      "        'train': <SplitInfo num_examples=50000, num_shards=1>,\n",
      "    },\n",
      "    citation=\"\"\"@TECHREPORT{Krizhevsky09learningmultiple,\n",
      "        author = {Alex Krizhevsky},\n",
      "        title = {Learning multiple layers of features from tiny images},\n",
      "        institution = {},\n",
      "        year = {2009}\n",
      "    }\"\"\",\n",
      ")\n"
     ]
    }
   ],
   "source": [
    "print(f'ds = {ds}')\n",
    "print(f'info = {info}')"
   ]
  },
  {
   "cell_type": "code",
   "execution_count": 6,
   "id": "cea01ca2",
   "metadata": {},
   "outputs": [],
   "source": [
    "train_ds = ds[0]\n",
    "test_ds = ds[1]"
   ]
  },
  {
   "cell_type": "code",
   "execution_count": 7,
   "id": "2ce181b0",
   "metadata": {},
   "outputs": [
    {
     "data": {
      "text/html": [
       "<style type=\"text/css\">\n",
       "</style>\n",
       "<table id=\"T_a0e98\">\n",
       "  <thead>\n",
       "    <tr>\n",
       "      <th class=\"blank level0\" >&nbsp;</th>\n",
       "      <th id=\"T_a0e98_level0_col0\" class=\"col_heading level0 col0\" >image</th>\n",
       "      <th id=\"T_a0e98_level0_col1\" class=\"col_heading level0 col1\" >label</th>\n",
       "    </tr>\n",
       "  </thead>\n",
       "  <tbody>\n",
       "    <tr>\n",
       "      <th id=\"T_a0e98_level0_row0\" class=\"row_heading level0 row0\" >0</th>\n",
       "      <td id=\"T_a0e98_row0_col0\" class=\"data row0 col0\" ><img src=\"data:image/png;base64,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\" alt=\"Img\" /></td>\n",
       "      <td id=\"T_a0e98_row0_col1\" class=\"data row0 col1\" >7 (horse)</td>\n",
       "    </tr>\n",
       "    <tr>\n",
       "      <th id=\"T_a0e98_level0_row1\" class=\"row_heading level0 row1\" >1</th>\n",
       "      <td id=\"T_a0e98_row1_col0\" class=\"data row1 col0\" ><img src=\"data:image/png;base64,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\" alt=\"Img\" /></td>\n",
       "      <td id=\"T_a0e98_row1_col1\" class=\"data row1 col1\" >8 (ship)</td>\n",
       "    </tr>\n",
       "    <tr>\n",
       "      <th id=\"T_a0e98_level0_row2\" class=\"row_heading level0 row2\" >2</th>\n",
       "      <td id=\"T_a0e98_row2_col0\" class=\"data row2 col0\" ><img src=\"data:image/png;base64,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\" alt=\"Img\" /></td>\n",
       "      <td id=\"T_a0e98_row2_col1\" class=\"data row2 col1\" >4 (deer)</td>\n",
       "    </tr>\n",
       "    <tr>\n",
       "      <th id=\"T_a0e98_level0_row3\" class=\"row_heading level0 row3\" >3</th>\n",
       "      <td id=\"T_a0e98_row3_col0\" class=\"data row3 col0\" ><img src=\"data:image/png;base64,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\" alt=\"Img\" /></td>\n",
       "      <td id=\"T_a0e98_row3_col1\" class=\"data row3 col1\" >4 (deer)</td>\n",
       "    </tr>\n",
       "  </tbody>\n",
       "</table>\n"
      ],
      "text/plain": [
       "                                               image  label\n",
       "0  [[[143, 96, 70], [141, 96, 72], [135, 93, 72],...      7\n",
       "1  [[[203, 214, 234], [191, 207, 226], [178, 200,...      8\n",
       "2  [[[106, 103, 104], [103, 97, 99], [102, 93, 96...      4\n",
       "3  [[[53, 53, 60], [63, 62, 66], [74, 72, 75], [8...      4"
      ]
     },
     "execution_count": 7,
     "metadata": {},
     "output_type": "execute_result"
    }
   ],
   "source": [
    "tfds.as_dataframe(train_ds.take(4),info)"
   ]
  },
  {
   "cell_type": "markdown",
   "id": "3e2e6b47",
   "metadata": {},
   "source": [
    "# データセットの前処理\n",
    "\n",
    "[参考](https://www.tensorflow.org/datasets/keras_example)"
   ]
  },
  {
   "cell_type": "code",
   "execution_count": 8,
   "id": "c6d5ecdb",
   "metadata": {},
   "outputs": [],
   "source": [
    "def normalize_img(image, label):\n",
    "    return tf.cast(image, tf.float32)/255.0, label"
   ]
  },
  {
   "cell_type": "code",
   "execution_count": 9,
   "id": "2622266b",
   "metadata": {},
   "outputs": [],
   "source": [
    "train_ds = train_ds.map(normalize_img, num_parallel_calls = tf.data.AUTOTUNE)\n",
    "train_ds = train_ds.cache()\n",
    "train_ds = train_ds.shuffle(info.splits['train'].num_examples)\n",
    "train_ds = train_ds.batch(64)\n",
    "train_ds = train_ds.prefetch(tf.data.AUTOTUNE)"
   ]
  },
  {
   "cell_type": "code",
   "execution_count": 10,
   "id": "6bf93313",
   "metadata": {},
   "outputs": [],
   "source": [
    "test_ds = test_ds.map(normalize_img, num_parallel_calls = tf.data.AUTOTUNE)\n",
    "test_ds = test_ds.batch(64)\n",
    "test_ds = test_ds.cache()\n",
    "test_ds = test_ds.prefetch(tf.data.AUTOTUNE)"
   ]
  },
  {
   "cell_type": "markdown",
   "id": "ba08a2a5",
   "metadata": {},
   "source": [
    "# Callback関数の定義\n",
    "\n",
    "[参考](https://www.tensorflow.org/tensorboard/tensorboard_in_notebooks?hl=ja)"
   ]
  },
  {
   "cell_type": "code",
   "execution_count": 11,
   "id": "9a16b97a",
   "metadata": {},
   "outputs": [],
   "source": [
    "%load_ext tensorboard"
   ]
  },
  {
   "cell_type": "code",
   "execution_count": 12,
   "id": "cab22482",
   "metadata": {},
   "outputs": [],
   "source": [
    "import os, datetime\n",
    "\n",
    "logdir = os.path.join(\"logs\", datetime.datetime.now().strftime(\"%Y%m%d-%H%M%S\"))\n",
    "tensorboard_callback = tf.keras.callbacks.TensorBoard(logdir, histogram_freq=1)"
   ]
  },
  {
   "cell_type": "markdown",
   "id": "3af9719d",
   "metadata": {},
   "source": [
    "# Tensorboardの表示"
   ]
  },
  {
   "cell_type": "code",
   "execution_count": 13,
   "id": "4e6d1773",
   "metadata": {},
   "outputs": [
    {
     "data": {
      "text/html": [
       "\n",
       "      <iframe id=\"tensorboard-frame-a8cdc82e3d1afe3e\" width=\"100%\" height=\"800\" frameborder=\"0\">\n",
       "      </iframe>\n",
       "      <script>\n",
       "        (function() {\n",
       "          const frame = document.getElementById(\"tensorboard-frame-a8cdc82e3d1afe3e\");\n",
       "          const url = new URL(\"/\", window.location);\n",
       "          const port = 49551;\n",
       "          if (port) {\n",
       "            url.port = port;\n",
       "          }\n",
       "          frame.src = url;\n",
       "        })();\n",
       "      </script>\n",
       "    "
      ],
      "text/plain": [
       "<IPython.core.display.HTML object>"
      ]
     },
     "metadata": {},
     "output_type": "display_data"
    }
   ],
   "source": [
    "%tensorboard --logdir logs --host 0.0.0.0 --port 49551"
   ]
  },
  {
   "cell_type": "markdown",
   "id": "339eae13",
   "metadata": {},
   "source": [
    "# モデルの構築と学習"
   ]
  },
  {
   "cell_type": "code",
   "execution_count": 14,
   "id": "42ac84a1",
   "metadata": {},
   "outputs": [],
   "source": [
    "model = tf.keras.models.Sequential([\n",
    "    tf.keras.layers.Flatten(input_shape=(32,32,3)),\n",
    "    tf.keras.layers.Dense(128, activation='relu'),\n",
    "    tf.keras.layers.Dense(10)\n",
    "])"
   ]
  },
  {
   "cell_type": "code",
   "execution_count": 15,
   "id": "319de18d",
   "metadata": {},
   "outputs": [],
   "source": [
    "model.compile(\n",
    "    optimizer = tf.keras.optimizers.Adam(0.001),\n",
    "    loss = tf.keras.losses.SparseCategoricalCrossentropy(from_logits = True),\n",
    "    metrics = [tf.keras.metrics.SparseCategoricalAccuracy()]\n",
    ")"
   ]
  },
  {
   "cell_type": "code",
   "execution_count": 16,
   "id": "6e498dd7",
   "metadata": {
    "scrolled": true
   },
   "outputs": [
    {
     "name": "stdout",
     "output_type": "stream",
     "text": [
      "Epoch 1/100\n",
      "782/782 [==============================] - 9s 6ms/step - loss: 1.9189 - sparse_categorical_accuracy: 0.3171 - val_loss: 1.7829 - val_sparse_categorical_accuracy: 0.3658\n",
      "Epoch 2/100\n",
      "782/782 [==============================] - 3s 4ms/step - loss: 1.7654 - sparse_categorical_accuracy: 0.3721 - val_loss: 1.7737 - val_sparse_categorical_accuracy: 0.3767\n",
      "Epoch 3/100\n",
      "782/782 [==============================] - 3s 4ms/step - loss: 1.7047 - sparse_categorical_accuracy: 0.3963 - val_loss: 1.7155 - val_sparse_categorical_accuracy: 0.3910\n",
      "Epoch 4/100\n",
      "782/782 [==============================] - 3s 4ms/step - loss: 1.6601 - sparse_categorical_accuracy: 0.4125 - val_loss: 1.6455 - val_sparse_categorical_accuracy: 0.4079\n",
      "Epoch 5/100\n",
      "782/782 [==============================] - 3s 4ms/step - loss: 1.6332 - sparse_categorical_accuracy: 0.4204 - val_loss: 1.6392 - val_sparse_categorical_accuracy: 0.4143\n",
      "Epoch 6/100\n",
      "782/782 [==============================] - 3s 4ms/step - loss: 1.6116 - sparse_categorical_accuracy: 0.4290 - val_loss: 1.6206 - val_sparse_categorical_accuracy: 0.4188\n",
      "Epoch 7/100\n",
      "782/782 [==============================] - 3s 4ms/step - loss: 1.5894 - sparse_categorical_accuracy: 0.4352 - val_loss: 1.5951 - val_sparse_categorical_accuracy: 0.4338\n",
      "Epoch 8/100\n",
      "782/782 [==============================] - 3s 4ms/step - loss: 1.5760 - sparse_categorical_accuracy: 0.4411 - val_loss: 1.5937 - val_sparse_categorical_accuracy: 0.4274\n",
      "Epoch 9/100\n",
      "782/782 [==============================] - 3s 4ms/step - loss: 1.5577 - sparse_categorical_accuracy: 0.4475 - val_loss: 1.6072 - val_sparse_categorical_accuracy: 0.4218\n",
      "Epoch 10/100\n",
      "782/782 [==============================] - 3s 4ms/step - loss: 1.5477 - sparse_categorical_accuracy: 0.4492 - val_loss: 1.6555 - val_sparse_categorical_accuracy: 0.4165\n",
      "Epoch 11/100\n",
      "782/782 [==============================] - 3s 4ms/step - loss: 1.5428 - sparse_categorical_accuracy: 0.4534 - val_loss: 1.5388 - val_sparse_categorical_accuracy: 0.4520\n",
      "Epoch 12/100\n",
      "782/782 [==============================] - 3s 4ms/step - loss: 1.5287 - sparse_categorical_accuracy: 0.4554 - val_loss: 1.5731 - val_sparse_categorical_accuracy: 0.4383\n",
      "Epoch 13/100\n",
      "782/782 [==============================] - 3s 4ms/step - loss: 1.5193 - sparse_categorical_accuracy: 0.4609 - val_loss: 1.5250 - val_sparse_categorical_accuracy: 0.4607\n",
      "Epoch 14/100\n",
      "782/782 [==============================] - 3s 4ms/step - loss: 1.5125 - sparse_categorical_accuracy: 0.4620 - val_loss: 1.5558 - val_sparse_categorical_accuracy: 0.4402\n",
      "Epoch 15/100\n",
      "782/782 [==============================] - 3s 4ms/step - loss: 1.5089 - sparse_categorical_accuracy: 0.4623 - val_loss: 1.5233 - val_sparse_categorical_accuracy: 0.4575\n",
      "Epoch 16/100\n",
      "782/782 [==============================] - 3s 4ms/step - loss: 1.5012 - sparse_categorical_accuracy: 0.4666 - val_loss: 1.5364 - val_sparse_categorical_accuracy: 0.4584\n",
      "Epoch 17/100\n",
      "782/782 [==============================] - 3s 4ms/step - loss: 1.4944 - sparse_categorical_accuracy: 0.4684 - val_loss: 1.5245 - val_sparse_categorical_accuracy: 0.4610\n",
      "Epoch 18/100\n",
      "782/782 [==============================] - 3s 4ms/step - loss: 1.4945 - sparse_categorical_accuracy: 0.4679 - val_loss: 1.5915 - val_sparse_categorical_accuracy: 0.4438\n",
      "Epoch 19/100\n",
      "782/782 [==============================] - 3s 4ms/step - loss: 1.4853 - sparse_categorical_accuracy: 0.4710 - val_loss: 1.5343 - val_sparse_categorical_accuracy: 0.4577\n",
      "Epoch 20/100\n",
      "782/782 [==============================] - 3s 4ms/step - loss: 1.4825 - sparse_categorical_accuracy: 0.4704 - val_loss: 1.5235 - val_sparse_categorical_accuracy: 0.4641\n",
      "Epoch 21/100\n",
      "782/782 [==============================] - 3s 4ms/step - loss: 1.4772 - sparse_categorical_accuracy: 0.4733 - val_loss: 1.5351 - val_sparse_categorical_accuracy: 0.4528\n",
      "Epoch 22/100\n",
      "782/782 [==============================] - 3s 4ms/step - loss: 1.4697 - sparse_categorical_accuracy: 0.4762 - val_loss: 1.5378 - val_sparse_categorical_accuracy: 0.4598\n",
      "Epoch 23/100\n",
      "782/782 [==============================] - 3s 4ms/step - loss: 1.4702 - sparse_categorical_accuracy: 0.4750 - val_loss: 1.5190 - val_sparse_categorical_accuracy: 0.4621\n",
      "Epoch 24/100\n",
      "782/782 [==============================] - 3s 4ms/step - loss: 1.4630 - sparse_categorical_accuracy: 0.4777 - val_loss: 1.5146 - val_sparse_categorical_accuracy: 0.4590\n",
      "Epoch 25/100\n",
      "782/782 [==============================] - 3s 4ms/step - loss: 1.4656 - sparse_categorical_accuracy: 0.4787 - val_loss: 1.5532 - val_sparse_categorical_accuracy: 0.4469\n",
      "Epoch 26/100\n",
      "782/782 [==============================] - 3s 4ms/step - loss: 1.4564 - sparse_categorical_accuracy: 0.4800 - val_loss: 1.5528 - val_sparse_categorical_accuracy: 0.4542\n",
      "Epoch 27/100\n",
      "782/782 [==============================] - 3s 4ms/step - loss: 1.4511 - sparse_categorical_accuracy: 0.4832 - val_loss: 1.6200 - val_sparse_categorical_accuracy: 0.4247\n",
      "Epoch 28/100\n",
      "782/782 [==============================] - 3s 4ms/step - loss: 1.4489 - sparse_categorical_accuracy: 0.4848 - val_loss: 1.5143 - val_sparse_categorical_accuracy: 0.4636\n",
      "Epoch 29/100\n",
      "782/782 [==============================] - 3s 4ms/step - loss: 1.4465 - sparse_categorical_accuracy: 0.4873 - val_loss: 1.5274 - val_sparse_categorical_accuracy: 0.4603\n",
      "Epoch 30/100\n",
      "782/782 [==============================] - 3s 4ms/step - loss: 1.4479 - sparse_categorical_accuracy: 0.4844 - val_loss: 1.5471 - val_sparse_categorical_accuracy: 0.4539\n",
      "Epoch 31/100\n",
      "782/782 [==============================] - 3s 4ms/step - loss: 1.4468 - sparse_categorical_accuracy: 0.4839 - val_loss: 1.5130 - val_sparse_categorical_accuracy: 0.4647\n",
      "Epoch 32/100\n",
      "782/782 [==============================] - 3s 4ms/step - loss: 1.4400 - sparse_categorical_accuracy: 0.4862 - val_loss: 1.5462 - val_sparse_categorical_accuracy: 0.4508\n",
      "Epoch 33/100\n",
      "782/782 [==============================] - 3s 4ms/step - loss: 1.4361 - sparse_categorical_accuracy: 0.4887 - val_loss: 1.5053 - val_sparse_categorical_accuracy: 0.4717\n",
      "Epoch 34/100\n",
      "782/782 [==============================] - 3s 4ms/step - loss: 1.4358 - sparse_categorical_accuracy: 0.4882 - val_loss: 1.5451 - val_sparse_categorical_accuracy: 0.4592\n",
      "Epoch 35/100\n",
      "782/782 [==============================] - 3s 4ms/step - loss: 1.4364 - sparse_categorical_accuracy: 0.4894 - val_loss: 1.5017 - val_sparse_categorical_accuracy: 0.4694\n",
      "Epoch 36/100\n",
      "782/782 [==============================] - 3s 4ms/step - loss: 1.4258 - sparse_categorical_accuracy: 0.4925 - val_loss: 1.5182 - val_sparse_categorical_accuracy: 0.4568\n",
      "Epoch 37/100\n",
      "782/782 [==============================] - 3s 4ms/step - loss: 1.4250 - sparse_categorical_accuracy: 0.4908 - val_loss: 1.5236 - val_sparse_categorical_accuracy: 0.4567\n",
      "Epoch 38/100\n",
      "782/782 [==============================] - 3s 4ms/step - loss: 1.4258 - sparse_categorical_accuracy: 0.4923 - val_loss: 1.5102 - val_sparse_categorical_accuracy: 0.4661\n",
      "Epoch 39/100\n",
      "782/782 [==============================] - 3s 4ms/step - loss: 1.4198 - sparse_categorical_accuracy: 0.4945 - val_loss: 1.5162 - val_sparse_categorical_accuracy: 0.4648\n",
      "Epoch 40/100\n",
      "782/782 [==============================] - 3s 4ms/step - loss: 1.4177 - sparse_categorical_accuracy: 0.4949 - val_loss: 1.5304 - val_sparse_categorical_accuracy: 0.4651\n",
      "Epoch 41/100\n",
      "782/782 [==============================] - 3s 4ms/step - loss: 1.4177 - sparse_categorical_accuracy: 0.4928 - val_loss: 1.5385 - val_sparse_categorical_accuracy: 0.4584\n",
      "Epoch 42/100\n",
      "782/782 [==============================] - 3s 4ms/step - loss: 1.4131 - sparse_categorical_accuracy: 0.4970 - val_loss: 1.5054 - val_sparse_categorical_accuracy: 0.4634\n",
      "Epoch 43/100\n",
      "782/782 [==============================] - 3s 4ms/step - loss: 1.4110 - sparse_categorical_accuracy: 0.4969 - val_loss: 1.5295 - val_sparse_categorical_accuracy: 0.4574\n",
      "Epoch 44/100\n",
      "782/782 [==============================] - 3s 4ms/step - loss: 1.4120 - sparse_categorical_accuracy: 0.4986 - val_loss: 1.4953 - val_sparse_categorical_accuracy: 0.4716\n",
      "Epoch 45/100\n",
      "782/782 [==============================] - 3s 4ms/step - loss: 1.4091 - sparse_categorical_accuracy: 0.4980 - val_loss: 1.5093 - val_sparse_categorical_accuracy: 0.4696\n",
      "Epoch 46/100\n"
     ]
    },
    {
     "name": "stdout",
     "output_type": "stream",
     "text": [
      "782/782 [==============================] - 4s 5ms/step - loss: 1.4068 - sparse_categorical_accuracy: 0.4996 - val_loss: 1.5325 - val_sparse_categorical_accuracy: 0.4547\n",
      "Epoch 47/100\n",
      "782/782 [==============================] - 3s 4ms/step - loss: 1.4091 - sparse_categorical_accuracy: 0.4999 - val_loss: 1.5049 - val_sparse_categorical_accuracy: 0.4670\n",
      "Epoch 48/100\n",
      "782/782 [==============================] - 3s 4ms/step - loss: 1.3997 - sparse_categorical_accuracy: 0.5017 - val_loss: 1.5026 - val_sparse_categorical_accuracy: 0.4662\n",
      "Epoch 49/100\n",
      "782/782 [==============================] - 3s 4ms/step - loss: 1.3995 - sparse_categorical_accuracy: 0.5009 - val_loss: 1.5134 - val_sparse_categorical_accuracy: 0.4696\n",
      "Epoch 50/100\n",
      "782/782 [==============================] - 4s 4ms/step - loss: 1.3971 - sparse_categorical_accuracy: 0.5027 - val_loss: 1.5121 - val_sparse_categorical_accuracy: 0.4674\n",
      "Epoch 51/100\n",
      "782/782 [==============================] - 3s 4ms/step - loss: 1.3954 - sparse_categorical_accuracy: 0.5026 - val_loss: 1.4985 - val_sparse_categorical_accuracy: 0.4723\n",
      "Epoch 52/100\n",
      "782/782 [==============================] - 3s 4ms/step - loss: 1.3966 - sparse_categorical_accuracy: 0.5027 - val_loss: 1.5028 - val_sparse_categorical_accuracy: 0.4697\n",
      "Epoch 53/100\n",
      "782/782 [==============================] - 3s 4ms/step - loss: 1.4016 - sparse_categorical_accuracy: 0.4986 - val_loss: 1.4972 - val_sparse_categorical_accuracy: 0.4710\n",
      "Epoch 54/100\n",
      "782/782 [==============================] - 3s 4ms/step - loss: 1.3917 - sparse_categorical_accuracy: 0.5044 - val_loss: 1.5320 - val_sparse_categorical_accuracy: 0.4640\n",
      "Epoch 55/100\n",
      "782/782 [==============================] - 3s 4ms/step - loss: 1.3892 - sparse_categorical_accuracy: 0.5061 - val_loss: 1.4847 - val_sparse_categorical_accuracy: 0.4754\n",
      "Epoch 56/100\n",
      "782/782 [==============================] - 3s 4ms/step - loss: 1.3893 - sparse_categorical_accuracy: 0.5062 - val_loss: 1.5106 - val_sparse_categorical_accuracy: 0.4689\n",
      "Epoch 57/100\n",
      "782/782 [==============================] - 3s 4ms/step - loss: 1.3881 - sparse_categorical_accuracy: 0.5049 - val_loss: 1.5229 - val_sparse_categorical_accuracy: 0.4686\n",
      "Epoch 58/100\n",
      "782/782 [==============================] - 3s 4ms/step - loss: 1.3848 - sparse_categorical_accuracy: 0.5074 - val_loss: 1.5220 - val_sparse_categorical_accuracy: 0.4614\n",
      "Epoch 59/100\n",
      "782/782 [==============================] - 3s 4ms/step - loss: 1.3877 - sparse_categorical_accuracy: 0.5052 - val_loss: 1.5110 - val_sparse_categorical_accuracy: 0.4685\n",
      "Epoch 60/100\n",
      "782/782 [==============================] - 3s 4ms/step - loss: 1.3873 - sparse_categorical_accuracy: 0.5078 - val_loss: 1.5391 - val_sparse_categorical_accuracy: 0.4552\n",
      "Epoch 61/100\n",
      "782/782 [==============================] - 3s 4ms/step - loss: 1.3787 - sparse_categorical_accuracy: 0.5072 - val_loss: 1.5058 - val_sparse_categorical_accuracy: 0.4728\n",
      "Epoch 62/100\n",
      "782/782 [==============================] - 3s 4ms/step - loss: 1.3786 - sparse_categorical_accuracy: 0.5078 - val_loss: 1.4886 - val_sparse_categorical_accuracy: 0.4737\n",
      "Epoch 63/100\n",
      "782/782 [==============================] - 3s 4ms/step - loss: 1.3787 - sparse_categorical_accuracy: 0.5073 - val_loss: 1.5201 - val_sparse_categorical_accuracy: 0.4699\n",
      "Epoch 64/100\n",
      "782/782 [==============================] - 3s 4ms/step - loss: 1.3799 - sparse_categorical_accuracy: 0.5065 - val_loss: 1.4950 - val_sparse_categorical_accuracy: 0.4779\n",
      "Epoch 65/100\n",
      "782/782 [==============================] - 3s 4ms/step - loss: 1.3802 - sparse_categorical_accuracy: 0.5083 - val_loss: 1.5323 - val_sparse_categorical_accuracy: 0.4638\n",
      "Epoch 66/100\n",
      "782/782 [==============================] - 3s 4ms/step - loss: 1.3771 - sparse_categorical_accuracy: 0.5093 - val_loss: 1.5111 - val_sparse_categorical_accuracy: 0.4734\n",
      "Epoch 67/100\n",
      "782/782 [==============================] - 3s 4ms/step - loss: 1.3764 - sparse_categorical_accuracy: 0.5107 - val_loss: 1.4985 - val_sparse_categorical_accuracy: 0.4792\n",
      "Epoch 68/100\n",
      "782/782 [==============================] - 3s 4ms/step - loss: 1.3705 - sparse_categorical_accuracy: 0.5128 - val_loss: 1.5003 - val_sparse_categorical_accuracy: 0.4722\n",
      "Epoch 69/100\n",
      "782/782 [==============================] - 3s 4ms/step - loss: 1.3706 - sparse_categorical_accuracy: 0.5092 - val_loss: 1.5177 - val_sparse_categorical_accuracy: 0.4616\n",
      "Epoch 70/100\n",
      "782/782 [==============================] - 3s 4ms/step - loss: 1.3711 - sparse_categorical_accuracy: 0.5132 - val_loss: 1.5305 - val_sparse_categorical_accuracy: 0.4663\n",
      "Epoch 71/100\n",
      "782/782 [==============================] - 3s 4ms/step - loss: 1.3689 - sparse_categorical_accuracy: 0.5119 - val_loss: 1.4961 - val_sparse_categorical_accuracy: 0.4757\n",
      "Epoch 72/100\n",
      "782/782 [==============================] - 3s 4ms/step - loss: 1.3712 - sparse_categorical_accuracy: 0.5125 - val_loss: 1.5022 - val_sparse_categorical_accuracy: 0.4744\n",
      "Epoch 73/100\n",
      "782/782 [==============================] - 3s 4ms/step - loss: 1.3654 - sparse_categorical_accuracy: 0.5141 - val_loss: 1.5006 - val_sparse_categorical_accuracy: 0.4765\n",
      "Epoch 74/100\n",
      "782/782 [==============================] - 3s 4ms/step - loss: 1.3670 - sparse_categorical_accuracy: 0.5128 - val_loss: 1.5207 - val_sparse_categorical_accuracy: 0.4662\n",
      "Epoch 75/100\n",
      "782/782 [==============================] - 3s 4ms/step - loss: 1.3645 - sparse_categorical_accuracy: 0.5126 - val_loss: 1.5310 - val_sparse_categorical_accuracy: 0.4650\n",
      "Epoch 76/100\n",
      "782/782 [==============================] - 3s 4ms/step - loss: 1.3616 - sparse_categorical_accuracy: 0.5153 - val_loss: 1.5372 - val_sparse_categorical_accuracy: 0.4577\n",
      "Epoch 77/100\n",
      "782/782 [==============================] - 3s 4ms/step - loss: 1.3649 - sparse_categorical_accuracy: 0.5132 - val_loss: 1.4987 - val_sparse_categorical_accuracy: 0.4766\n",
      "Epoch 78/100\n",
      "782/782 [==============================] - 3s 4ms/step - loss: 1.3624 - sparse_categorical_accuracy: 0.5148 - val_loss: 1.5070 - val_sparse_categorical_accuracy: 0.4746\n",
      "Epoch 79/100\n",
      "782/782 [==============================] - 3s 4ms/step - loss: 1.3610 - sparse_categorical_accuracy: 0.5152 - val_loss: 1.4951 - val_sparse_categorical_accuracy: 0.4788\n",
      "Epoch 80/100\n",
      "782/782 [==============================] - 3s 4ms/step - loss: 1.3580 - sparse_categorical_accuracy: 0.5155 - val_loss: 1.5270 - val_sparse_categorical_accuracy: 0.4671\n",
      "Epoch 81/100\n",
      "782/782 [==============================] - 3s 4ms/step - loss: 1.3614 - sparse_categorical_accuracy: 0.5135 - val_loss: 1.5170 - val_sparse_categorical_accuracy: 0.4628\n",
      "Epoch 82/100\n",
      "782/782 [==============================] - 3s 4ms/step - loss: 1.3551 - sparse_categorical_accuracy: 0.5190 - val_loss: 1.5346 - val_sparse_categorical_accuracy: 0.4631\n",
      "Epoch 83/100\n",
      "782/782 [==============================] - 3s 4ms/step - loss: 1.3589 - sparse_categorical_accuracy: 0.5158 - val_loss: 1.4871 - val_sparse_categorical_accuracy: 0.4799\n",
      "Epoch 84/100\n",
      "782/782 [==============================] - 3s 4ms/step - loss: 1.3540 - sparse_categorical_accuracy: 0.5173 - val_loss: 1.5208 - val_sparse_categorical_accuracy: 0.4668\n",
      "Epoch 85/100\n",
      "782/782 [==============================] - 3s 4ms/step - loss: 1.3540 - sparse_categorical_accuracy: 0.5154 - val_loss: 1.5044 - val_sparse_categorical_accuracy: 0.4730\n",
      "Epoch 86/100\n",
      "782/782 [==============================] - 3s 4ms/step - loss: 1.3530 - sparse_categorical_accuracy: 0.5171 - val_loss: 1.5146 - val_sparse_categorical_accuracy: 0.4721\n",
      "Epoch 87/100\n",
      "782/782 [==============================] - 3s 4ms/step - loss: 1.3527 - sparse_categorical_accuracy: 0.5180 - val_loss: 1.5212 - val_sparse_categorical_accuracy: 0.4728\n",
      "Epoch 88/100\n",
      "782/782 [==============================] - 3s 4ms/step - loss: 1.3518 - sparse_categorical_accuracy: 0.5198 - val_loss: 1.4941 - val_sparse_categorical_accuracy: 0.4750\n",
      "Epoch 89/100\n",
      "782/782 [==============================] - 3s 4ms/step - loss: 1.3471 - sparse_categorical_accuracy: 0.5195 - val_loss: 1.5359 - val_sparse_categorical_accuracy: 0.4599\n",
      "Epoch 90/100\n",
      "782/782 [==============================] - 3s 4ms/step - loss: 1.3473 - sparse_categorical_accuracy: 0.5210 - val_loss: 1.4953 - val_sparse_categorical_accuracy: 0.4776\n",
      "Epoch 91/100\n"
     ]
    },
    {
     "name": "stdout",
     "output_type": "stream",
     "text": [
      "782/782 [==============================] - 3s 4ms/step - loss: 1.3490 - sparse_categorical_accuracy: 0.5179 - val_loss: 1.5132 - val_sparse_categorical_accuracy: 0.4674\n",
      "Epoch 92/100\n",
      "782/782 [==============================] - 3s 4ms/step - loss: 1.3462 - sparse_categorical_accuracy: 0.5195 - val_loss: 1.5138 - val_sparse_categorical_accuracy: 0.4641\n",
      "Epoch 93/100\n",
      "782/782 [==============================] - 3s 4ms/step - loss: 1.3506 - sparse_categorical_accuracy: 0.5205 - val_loss: 1.5655 - val_sparse_categorical_accuracy: 0.4665\n",
      "Epoch 94/100\n",
      "782/782 [==============================] - 3s 4ms/step - loss: 1.3447 - sparse_categorical_accuracy: 0.5215 - val_loss: 1.5015 - val_sparse_categorical_accuracy: 0.4726\n",
      "Epoch 95/100\n",
      "782/782 [==============================] - 3s 4ms/step - loss: 1.3440 - sparse_categorical_accuracy: 0.5180 - val_loss: 1.5443 - val_sparse_categorical_accuracy: 0.4575\n",
      "Epoch 96/100\n",
      "782/782 [==============================] - 3s 4ms/step - loss: 1.3420 - sparse_categorical_accuracy: 0.5195 - val_loss: 1.5233 - val_sparse_categorical_accuracy: 0.4681\n",
      "Epoch 97/100\n",
      "782/782 [==============================] - 3s 4ms/step - loss: 1.3437 - sparse_categorical_accuracy: 0.5209 - val_loss: 1.5188 - val_sparse_categorical_accuracy: 0.4702\n",
      "Epoch 98/100\n",
      "782/782 [==============================] - 3s 4ms/step - loss: 1.3419 - sparse_categorical_accuracy: 0.5223 - val_loss: 1.4989 - val_sparse_categorical_accuracy: 0.4786\n",
      "Epoch 99/100\n",
      "782/782 [==============================] - 3s 4ms/step - loss: 1.3398 - sparse_categorical_accuracy: 0.5218 - val_loss: 1.5106 - val_sparse_categorical_accuracy: 0.4676\n",
      "Epoch 100/100\n",
      "782/782 [==============================] - 3s 4ms/step - loss: 1.3432 - sparse_categorical_accuracy: 0.5223 - val_loss: 1.5180 - val_sparse_categorical_accuracy: 0.4702\n"
     ]
    },
    {
     "data": {
      "text/plain": [
       "<keras.callbacks.History at 0x7f468c643130>"
      ]
     },
     "execution_count": 16,
     "metadata": {},
     "output_type": "execute_result"
    }
   ],
   "source": [
    "model.fit(\n",
    "    train_ds,\n",
    "    epochs = 100,\n",
    "    validation_data=test_ds,\n",
    "    callbacks = [tensorboard_callback]\n",
    ")"
   ]
  },
  {
   "cell_type": "code",
   "execution_count": null,
   "id": "fc254bf3",
   "metadata": {},
   "outputs": [],
   "source": []
  }
 ],
 "metadata": {
  "kernelspec": {
   "display_name": "Python 3 (ipykernel)",
   "language": "python",
   "name": "python3"
  },
  "language_info": {
   "codemirror_mode": {
    "name": "ipython",
    "version": 3
   },
   "file_extension": ".py",
   "mimetype": "text/x-python",
   "name": "python",
   "nbconvert_exporter": "python",
   "pygments_lexer": "ipython3",
   "version": "3.10.4"
  }
 },
 "nbformat": 4,
 "nbformat_minor": 5
}
